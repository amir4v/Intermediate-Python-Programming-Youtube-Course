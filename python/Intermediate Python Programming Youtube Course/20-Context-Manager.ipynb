{
 "cells": [
  {
   "cell_type": "code",
   "execution_count": 1,
   "metadata": {},
   "outputs": [],
   "source": [
    "# Context-Manager"
   ]
  },
  {
   "cell_type": "code",
   "execution_count": 3,
   "metadata": {},
   "outputs": [],
   "source": [
    "# great tool for resource management\n",
    "# allocate and release resorces\n",
    "# like 'with'\n",
    "# etc. ..."
   ]
  },
  {
   "cell_type": "code",
   "execution_count": 5,
   "metadata": {},
   "outputs": [],
   "source": [
    "# with open('file.txt', 'r') as f:\n",
    "    # f.read()\n",
    "\n",
    "# the 'with' will close the 'f' open-file even when an Error/Exception"
   ]
  },
  {
   "cell_type": "code",
   "execution_count": 7,
   "metadata": {},
   "outputs": [
    {
     "name": "stdout",
     "output_type": "stream",
     "text": [
      "Init\n",
      "Enter\n",
      "doing some stuff...\n",
      "exc: None None None\n",
      "Exit\n"
     ]
    }
   ],
   "source": [
    "class ManagedFile:\n",
    "    def __init__(self, filename):\n",
    "        print('Init')\n",
    "        self.filename = filename\n",
    "    \n",
    "    def __enter__(self): # When 'with' enters in class\n",
    "        print('Enter')\n",
    "        # self.file = open(self.filename, 'r')\n",
    "        return self # return self.file\n",
    "    \n",
    "    def __exit__(self, exc_type, exc_value, exc_traceback): # (exc=Exception) When we/class are/is exiting from with\n",
    "        # if self.file:\n",
    "            # self.file.close()\n",
    "        print('exc:', exc_type, exc_value, exc_traceback)\n",
    "        print('Exit')\n",
    "\n",
    "with ManagedFile('file.txt') as f:\n",
    "    # f.read()\n",
    "    print(\"doing some stuff...\")\n"
   ]
  },
  {
   "cell_type": "code",
   "execution_count": 9,
   "metadata": {},
   "outputs": [
    {
     "name": "stdout",
     "output_type": "stream",
     "text": [
      "Init\n",
      "Enter\n",
      "Exception handleing\n",
      "Exit\n"
     ]
    }
   ],
   "source": [
    "# Exception handleing in context-manager\n",
    "\n",
    "class ManagedFile:\n",
    "    def __init__(self, filename):\n",
    "        print('Init')\n",
    "        self.filename = filename\n",
    "    \n",
    "    def __enter__(self): # When 'with' enters in class\n",
    "        print('Enter')\n",
    "        # self.file = open(self.filename, 'r')\n",
    "        return self # return self.file\n",
    "    \n",
    "    def __exit__(self, exc_type, exc_value, exc_traceback): # (exc=Exception) When we/class are/is exiting from with\n",
    "        # if self.file:\n",
    "            # self.file.close()\n",
    "        \n",
    "        if exc_type is not None:\n",
    "            print('Exception handleing')\n",
    "        \n",
    "        # print('exc:', exc_type, exc_value, exc_traceback)\n",
    "        print('Exit')\n",
    "        \n",
    "        return True\n",
    "\n",
    "with ManagedFile('file.txt') as f:\n",
    "    # f.read()\n",
    "    f.some_method_that_is_not_exists()\n",
    "    print(\"doing some stuff...\")\n"
   ]
  },
  {
   "cell_type": "code",
   "execution_count": 14,
   "metadata": {},
   "outputs": [
    {
     "name": "stdout",
     "output_type": "stream",
     "text": [
      "[]\n"
     ]
    }
   ],
   "source": [
    "from contextlib import contextmanager\n",
    "\n",
    "@contextmanager\n",
    "def open_managed_file(filename): # a Generator / yield\n",
    "    # f = open(filename, 'r')\n",
    "    try: # Entering the with\n",
    "        # yield f\n",
    "        yield []\n",
    "    finally: # When we/function are/is exiting from with\n",
    "        # f.close()\n",
    "        pass\n",
    "\n",
    "with open_managed_file('file.txt') as f:\n",
    "    # f.read()\n",
    "    print(f)\n"
   ]
  },
  {
   "cell_type": "code",
   "execution_count": 13,
   "metadata": {},
   "outputs": [],
   "source": [
    "# End"
   ]
  }
 ],
 "metadata": {
  "kernelspec": {
   "display_name": "Python 3.10.4 64-bit",
   "language": "python",
   "name": "python3"
  },
  "language_info": {
   "codemirror_mode": {
    "name": "ipython",
    "version": 3
   },
   "file_extension": ".py",
   "mimetype": "text/x-python",
   "name": "python",
   "nbconvert_exporter": "python",
   "pygments_lexer": "ipython3",
   "version": "3.10.4"
  },
  "orig_nbformat": 4,
  "vscode": {
   "interpreter": {
    "hash": "916dbcbb3f70747c44a77c7bcd40155683ae19c65e1c03b4aa3499c5328201f1"
   }
  }
 },
 "nbformat": 4,
 "nbformat_minor": 2
}
