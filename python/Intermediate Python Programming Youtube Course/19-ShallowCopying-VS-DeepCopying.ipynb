{
 "cells": [
  {
   "cell_type": "code",
   "execution_count": 15,
   "id": "748519fe-38c7-4cd0-9ae2-30d2249e20c3",
   "metadata": {},
   "outputs": [],
   "source": [
    "# ShallowCopying-VS-DeepCopying\n",
    "# There are many Difference between Mutable and Immutable in these situations"
   ]
  },
  {
   "cell_type": "code",
   "execution_count": 16,
   "id": "1b2f5ef1-c35e-4ffc-a88c-641a171687f2",
   "metadata": {},
   "outputs": [
    {
     "name": "stdout",
     "output_type": "stream",
     "text": [
      "5\n",
      "5\n",
      "===\n",
      "5\n",
      "10\n"
     ]
    }
   ],
   "source": [
    "org = 5\n",
    "cpy = org\n",
    "\n",
    "print(org)\n",
    "print(cpy)\n",
    "\n",
    "print('===')\n",
    "\n",
    "cpy = 10\n",
    "\n",
    "print(org)\n",
    "print(cpy)"
   ]
  },
  {
   "cell_type": "code",
   "execution_count": 14,
   "id": "784c3521-bef6-4a87-b00c-83034cf94e80",
   "metadata": {},
   "outputs": [
    {
     "name": "stdout",
     "output_type": "stream",
     "text": [
      "[111, 2, 3, 222]\n",
      "[111, 2, 3, 222]\n"
     ]
    }
   ],
   "source": [
    "org = [1,2,3,4]\n",
    "cpy = org\n",
    "\n",
    "cpy[0] = 111\n",
    "org[-1] = 222\n",
    "\n",
    "print(org)\n",
    "print(cpy)"
   ]
  },
  {
   "cell_type": "code",
   "execution_count": 17,
   "id": "f6d1a68d-cbc9-4fd3-96b5-5c1eb6873bc9",
   "metadata": {},
   "outputs": [],
   "source": [
    "# Shallow Copy: one level deep, only references on nested child objects\n",
    "# Deep Copy: full independent copy"
   ]
  },
  {
   "cell_type": "code",
   "execution_count": 18,
   "id": "bf1527c7-7aab-4c4f-893a-88b48188a33f",
   "metadata": {},
   "outputs": [
    {
     "name": "stdout",
     "output_type": "stream",
     "text": [
      "[1, 2, 3]\n",
      "[100, 2, 3]\n"
     ]
    }
   ],
   "source": [
    "import copy\n",
    "\n",
    "org = [1,2,3]\n",
    "cpy = copy.copy(org)\n",
    "\n",
    "cpy[0] = 100\n",
    "\n",
    "print(org)\n",
    "print(cpy)"
   ]
  },
  {
   "cell_type": "code",
   "execution_count": 19,
   "id": "7b8e74f0-4c1d-4584-98af-08e1f0705f8e",
   "metadata": {},
   "outputs": [
    {
     "name": "stdout",
     "output_type": "stream",
     "text": [
      "[1, 2, 3]\n",
      "[100, 2, 3]\n"
     ]
    }
   ],
   "source": [
    "org = [1,2,3]\n",
    "cpy = org.copy()\n",
    "\n",
    "cpy[0] = 100\n",
    "\n",
    "print(org)\n",
    "print(cpy)"
   ]
  },
  {
   "cell_type": "code",
   "execution_count": 20,
   "id": "b453429e-6bc1-441b-be51-ec52338b1645",
   "metadata": {},
   "outputs": [
    {
     "name": "stdout",
     "output_type": "stream",
     "text": [
      "[1, 2, 3]\n",
      "[100, 2, 3]\n"
     ]
    }
   ],
   "source": [
    "org = [1,2,3]\n",
    "cpy = list(org)\n",
    "\n",
    "cpy[0] = 100\n",
    "\n",
    "print(org)\n",
    "print(cpy)"
   ]
  },
  {
   "cell_type": "code",
   "execution_count": 21,
   "id": "a5fa0a79-8975-4e6c-9712-050b44aa6742",
   "metadata": {},
   "outputs": [
    {
     "name": "stdout",
     "output_type": "stream",
     "text": [
      "[1, 2, 3]\n",
      "[100, 2, 3]\n"
     ]
    }
   ],
   "source": [
    "org = [1,2,3]\n",
    "cpy = org[:]\n",
    "\n",
    "cpy[0] = 100\n",
    "\n",
    "print(org)\n",
    "print(cpy)"
   ]
  },
  {
   "cell_type": "code",
   "execution_count": 23,
   "id": "6c3c546f-4dd9-44dd-8509-f42b5747cae4",
   "metadata": {},
   "outputs": [
    {
     "name": "stdout",
     "output_type": "stream",
     "text": [
      "[[100, 2, 3], [4, 5, 6]]\n",
      "[[100, 2, 3], [4, 5, 6]]\n"
     ]
    }
   ],
   "source": [
    "org = [[1,2,3], [4,5,6]]\n",
    "cpy = copy.copy(org)\n",
    "\n",
    "cpy[0][0] = 100\n",
    "\n",
    "print(org)\n",
    "print(cpy)\n",
    "\n",
    "# these were Shallow-Copy"
   ]
  },
  {
   "cell_type": "code",
   "execution_count": 24,
   "id": "0265dd7f-fcf6-4280-a79d-0963f4c12c0c",
   "metadata": {},
   "outputs": [
    {
     "name": "stdout",
     "output_type": "stream",
     "text": [
      "[[1, 2], [3, 4]]\n",
      "[[100, 2], [3, 4]]\n"
     ]
    }
   ],
   "source": [
    "org = [[1,2], [3,4]]\n",
    "cpy = copy.deepcopy(org)\n",
    "\n",
    "cpy[0][0] = 100\n",
    "\n",
    "print(org)\n",
    "print(cpy)"
   ]
  },
  {
   "cell_type": "code",
   "execution_count": 26,
   "id": "24d1eb2f-ccca-4006-a5e4-b05ed26f73ff",
   "metadata": {},
   "outputs": [
    {
     "name": "stdout",
     "output_type": "stream",
     "text": [
      "111\n",
      "111\n"
     ]
    }
   ],
   "source": [
    "class Person:\n",
    "    def __init__(self, name, age):\n",
    "        self.name = name\n",
    "        self.age = age\n",
    "\n",
    "p1 = Person('Amir', '23')\n",
    "p2 = p1\n",
    "\n",
    "p2.age = 111\n",
    "\n",
    "print(p1.age)\n",
    "print(p2.age)"
   ]
  },
  {
   "cell_type": "code",
   "execution_count": 27,
   "id": "b766bfb8-070d-40ed-8e85-97c78291573c",
   "metadata": {},
   "outputs": [
    {
     "name": "stdout",
     "output_type": "stream",
     "text": [
      "23\n",
      "111\n"
     ]
    }
   ],
   "source": [
    "p1 = Person('Amir', '23')\n",
    "p2 = copy.copy(p1)\n",
    "\n",
    "p2.age = 111\n",
    "\n",
    "print(p1.age)\n",
    "print(p2.age)"
   ]
  },
  {
   "cell_type": "code",
   "execution_count": 28,
   "id": "62b8aa17-f30f-476e-9589-9b7d711beb56",
   "metadata": {},
   "outputs": [
    {
     "name": "stdout",
     "output_type": "stream",
     "text": [
      "33\n",
      "33\n"
     ]
    }
   ],
   "source": [
    "class Company:\n",
    "    def __init__(self, boss, employee):\n",
    "        self.boss = boss\n",
    "        self.employee = employee\n",
    "\n",
    "p1 = Person('Amir', '23')\n",
    "p2 = Person('Jack', '22')\n",
    "\n",
    "c1 = Company(p1, p2)\n",
    "c2 = copy.copy(c1)\n",
    "\n",
    "c2.employee.age = 33\n",
    "\n",
    "print(c1.employee.age)\n",
    "print(c2.employee.age)"
   ]
  },
  {
   "cell_type": "code",
   "execution_count": 29,
   "id": "3e1bc208-3f31-408f-8c87-f8f919301de3",
   "metadata": {},
   "outputs": [
    {
     "name": "stdout",
     "output_type": "stream",
     "text": [
      "22\n",
      "33\n"
     ]
    }
   ],
   "source": [
    "p1 = Person('Amir', '23')\n",
    "p2 = Person('Jack', '22')\n",
    "\n",
    "c1 = Company(p1, p2)\n",
    "c2 = copy.deepcopy(c1)\n",
    "\n",
    "c2.employee.age = 33\n",
    "\n",
    "print(c1.employee.age)\n",
    "print(c2.employee.age)"
   ]
  },
  {
   "cell_type": "code",
   "execution_count": 30,
   "id": "a7dbf806-d2ca-4746-a09d-d7f939ca2501",
   "metadata": {},
   "outputs": [],
   "source": [
    "# Except .deepcopy method, All Copys are Shallow-Copy"
   ]
  }
 ],
 "metadata": {
  "kernelspec": {
   "display_name": "Python 3.10.4 64-bit",
   "language": "python",
   "name": "python3"
  },
  "language_info": {
   "codemirror_mode": {
    "name": "ipython",
    "version": 3
   },
   "file_extension": ".py",
   "mimetype": "text/x-python",
   "name": "python",
   "nbconvert_exporter": "python",
   "pygments_lexer": "ipython3",
   "version": "3.10.4"
  },
  "vscode": {
   "interpreter": {
    "hash": "916dbcbb3f70747c44a77c7bcd40155683ae19c65e1c03b4aa3499c5328201f1"
   }
  }
 },
 "nbformat": 4,
 "nbformat_minor": 5
}
