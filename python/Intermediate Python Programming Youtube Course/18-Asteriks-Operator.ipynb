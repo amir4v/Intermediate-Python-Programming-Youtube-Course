{
 "cells": [
  {
   "cell_type": "code",
   "execution_count": null,
   "id": "2ec466c6-b926-42e7-abeb-ff96001a3a7c",
   "metadata": {},
   "outputs": [],
   "source": [
    "# Asteriks-Operator\n",
    "# *"
   ]
  },
  {
   "cell_type": "code",
   "execution_count": 4,
   "id": "7f3f7712-19c1-4f93-a9d0-0d2fd14c0930",
   "metadata": {},
   "outputs": [
    {
     "data": {
      "text/plain": [
       "35"
      ]
     },
     "execution_count": 4,
     "metadata": {},
     "output_type": "execute_result"
    }
   ],
   "source": [
    "5 * 7 # multiplication"
   ]
  },
  {
   "cell_type": "code",
   "execution_count": 3,
   "id": "f34b30e7",
   "metadata": {},
   "outputs": [
    {
     "data": {
      "text/plain": [
       "16"
      ]
     },
     "execution_count": 3,
     "metadata": {},
     "output_type": "execute_result"
    }
   ],
   "source": [
    "2 ** 4 # power"
   ]
  },
  {
   "cell_type": "code",
   "execution_count": 4,
   "id": "f3f64b15-df76-4ef3-be47-ee885d21c3dc",
   "metadata": {},
   "outputs": [
    {
     "data": {
      "text/plain": [
       "[0, 0, 0, 0, 0]"
      ]
     },
     "execution_count": 4,
     "metadata": {},
     "output_type": "execute_result"
    }
   ],
   "source": [
    "[0] * 5"
   ]
  },
  {
   "cell_type": "code",
   "execution_count": 5,
   "id": "99af36c9-b3f9-4c30-9528-6f3788a0765b",
   "metadata": {},
   "outputs": [
    {
     "data": {
      "text/plain": [
       "0"
      ]
     },
     "execution_count": 5,
     "metadata": {},
     "output_type": "execute_result"
    }
   ],
   "source": [
    "(0) * 5"
   ]
  },
  {
   "cell_type": "code",
   "execution_count": 6,
   "id": "b13fb23c-4fae-4668-89a9-3110d22abb8e",
   "metadata": {},
   "outputs": [
    {
     "data": {
      "text/plain": [
       "(0, 0, 0, 0, 0)"
      ]
     },
     "execution_count": 6,
     "metadata": {},
     "output_type": "execute_result"
    }
   ],
   "source": [
    "(0,) * 5"
   ]
  },
  {
   "cell_type": "code",
   "execution_count": 7,
   "id": "146397cc-3a83-43f3-9b96-11f873caaba1",
   "metadata": {},
   "outputs": [
    {
     "data": {
      "text/plain": [
       "[0, 1, 0, 1, 0, 1, 0, 1, 0, 1]"
      ]
     },
     "execution_count": 7,
     "metadata": {},
     "output_type": "execute_result"
    }
   ],
   "source": [
    "[0, 1] * 5"
   ]
  },
  {
   "cell_type": "code",
   "execution_count": 8,
   "id": "e08a97e8-4bbe-490b-8b40-b74a1b427c2e",
   "metadata": {},
   "outputs": [
    {
     "data": {
      "text/plain": [
       "'AAAAA'"
      ]
     },
     "execution_count": 8,
     "metadata": {},
     "output_type": "execute_result"
    }
   ],
   "source": [
    "'A' * 5"
   ]
  },
  {
   "cell_type": "code",
   "execution_count": 9,
   "id": "2011e400-0b48-44ee-934d-5671ab0b951a",
   "metadata": {},
   "outputs": [
    {
     "data": {
      "text/plain": [
       "'ABABABABAB'"
      ]
     },
     "execution_count": 9,
     "metadata": {},
     "output_type": "execute_result"
    }
   ],
   "source": [
    "'AB' * 5"
   ]
  },
  {
   "cell_type": "code",
   "execution_count": 11,
   "id": "72862108-1fce-4410-a46b-12dd29ba3320",
   "metadata": {
    "tags": []
   },
   "outputs": [
    {
     "name": "stdout",
     "output_type": "stream",
     "text": [
      "1 2\n",
      "3\n",
      "4\n",
      "5\n",
      "x 11\n",
      "y 22\n",
      "z 33\n"
     ]
    }
   ],
   "source": [
    "def foo(a, b, *args, **kwargs):\n",
    "    print(a, b)\n",
    "    for arg in args:\n",
    "        print(arg)\n",
    "    for key in kwargs:\n",
    "        print(key, kwargs[key])\n",
    "\n",
    "foo(1, 2, 3, 4, 5, x=11, y=22, z=33)"
   ]
  },
  {
   "cell_type": "code",
   "execution_count": 12,
   "id": "f71149f9-c0f0-4604-89b0-36f17cfe6ea1",
   "metadata": {},
   "outputs": [
    {
     "name": "stdout",
     "output_type": "stream",
     "text": [
      "1 2 3\n"
     ]
    }
   ],
   "source": [
    "def foo(a, b, *, c): # must be like this: foo(1, 2, c=3) You have to declare the c argument, because it's after *\n",
    "    print(a, b, c)\n",
    "\n",
    "foo(1, 2, c=3)"
   ]
  },
  {
   "cell_type": "code",
   "execution_count": 15,
   "id": "f7d5ab6e-1b61-4e40-adaa-de9725acca34",
   "metadata": {},
   "outputs": [
    {
     "name": "stdout",
     "output_type": "stream",
     "text": [
      "1 2 3\n",
      "1 2 3\n",
      "1 2 3\n"
     ]
    }
   ],
   "source": [
    "# UnPacking\n",
    "\n",
    "def foo(a,b,c):\n",
    "    print(a,b,c)\n",
    "\n",
    "mylist = [1,2,3]\n",
    "foo(*mylist) # number of list elements must be the same as number of foo function arguments\n",
    "\n",
    "mytuple = (1,2,3)\n",
    "foo(*mytuple) # number of tuple elements must be the same as number of foo function arguments\n",
    "\n",
    "mydict = {'a':1, 'b':2, 'c':3}\n",
    "foo(**mydict) # number-and-names of dict elements must be the same as number-and-names of foo function arguments"
   ]
  },
  {
   "cell_type": "code",
   "execution_count": 23,
   "id": "3a5c9797-875e-4f89-bc3b-09f49c85cca4",
   "metadata": {},
   "outputs": [
    {
     "name": "stdout",
     "output_type": "stream",
     "text": [
      "[1, 2, 3, 4, 5] 6\n"
     ]
    }
   ],
   "source": [
    "numbers = [1,2,3,4,5,6]\n",
    "\n",
    "*beginning, last = numbers\n",
    "print(beginning, last)\n",
    "\n",
    "# this will get list into for *variable"
   ]
  },
  {
   "cell_type": "code",
   "execution_count": 25,
   "id": "007ebc43-f759-4aab-9a28-37844bacd2a3",
   "metadata": {},
   "outputs": [
    {
     "name": "stdout",
     "output_type": "stream",
     "text": [
      "1 [2, 3, 4, 5, 6]\n"
     ]
    }
   ],
   "source": [
    "numbers = [1,2,3,4,5,6]\n",
    "\n",
    "beginning, *last = numbers\n",
    "\n",
    "print(beginning, last)"
   ]
  },
  {
   "cell_type": "code",
   "execution_count": 26,
   "id": "2aa09ebd-67d0-4027-ad10-dff9fcd099a2",
   "metadata": {},
   "outputs": [
    {
     "name": "stdout",
     "output_type": "stream",
     "text": [
      "1 [2, 3]\n"
     ]
    }
   ],
   "source": [
    "numbers = (1,2,3)\n",
    "\n",
    "a, *bc = numbers\n",
    "\n",
    "print(a,bc)"
   ]
  },
  {
   "cell_type": "code",
   "execution_count": 27,
   "id": "b50d46e0-cdd6-4258-8ae5-1b7f8e88c9d1",
   "metadata": {},
   "outputs": [
    {
     "name": "stdout",
     "output_type": "stream",
     "text": [
      "1 [2, 3, 4] 5 6\n"
     ]
    }
   ],
   "source": [
    "numbers = (1,2,3,4,5,6)\n",
    "\n",
    "first, *middle, second_last, last = numbers\n",
    "\n",
    "print(first, middle, second_last, last)"
   ]
  },
  {
   "cell_type": "code",
   "execution_count": 28,
   "id": "2b8c437c-e2f0-40c2-bc53-4935e357c42d",
   "metadata": {},
   "outputs": [
    {
     "name": "stdout",
     "output_type": "stream",
     "text": [
      "(1, 2, 3)\n",
      "1 2 3\n"
     ]
    }
   ],
   "source": [
    "numbers = (1,2,3)\n",
    "\n",
    "print(numbers)\n",
    "\n",
    "print(*numbers)"
   ]
  },
  {
   "cell_type": "code",
   "execution_count": 29,
   "id": "ea8d7ce6-3922-47d7-9af7-f03208167613",
   "metadata": {},
   "outputs": [
    {
     "data": {
      "text/plain": [
       "[1, 2, 3, 4]"
      ]
     },
     "execution_count": 29,
     "metadata": {},
     "output_type": "execute_result"
    }
   ],
   "source": [
    "mytuple = (1,2)\n",
    "mylist = [3,4]\n",
    "\n",
    "[*mytuple, *mylist]"
   ]
  },
  {
   "cell_type": "code",
   "execution_count": 30,
   "id": "034ae3a8-96cb-4e76-bf8b-a84900a16449",
   "metadata": {},
   "outputs": [
    {
     "name": "stdout",
     "output_type": "stream",
     "text": [
      "1 2 3\n"
     ]
    }
   ],
   "source": [
    "myset = {1,2,3}\n",
    "print(*myset)"
   ]
  },
  {
   "cell_type": "code",
   "execution_count": 33,
   "id": "e7e98cf2-e3e2-4411-9e92-327574e0ea72",
   "metadata": {
    "tags": []
   },
   "outputs": [
    {
     "data": {
      "text/plain": [
       "{'a': 1, 'b': 2, 'c': 3}"
      ]
     },
     "execution_count": 33,
     "metadata": {},
     "output_type": "execute_result"
    }
   ],
   "source": [
    "dict_a = {'a':1, 'b':2}\n",
    "dict_b = {'c': 3}\n",
    "\n",
    "{**dict_a, **dict_b}"
   ]
  }
 ],
 "metadata": {
  "kernelspec": {
   "display_name": "Python 3 (ipykernel)",
   "language": "python",
   "name": "python3"
  },
  "language_info": {
   "codemirror_mode": {
    "name": "ipython",
    "version": 3
   },
   "file_extension": ".py",
   "mimetype": "text/x-python",
   "name": "python",
   "nbconvert_exporter": "python",
   "pygments_lexer": "ipython3",
   "version": "3.10.4"
  },
  "vscode": {
   "interpreter": {
    "hash": "916dbcbb3f70747c44a77c7bcd40155683ae19c65e1c03b4aa3499c5328201f1"
   }
  }
 },
 "nbformat": 4,
 "nbformat_minor": 5
}
